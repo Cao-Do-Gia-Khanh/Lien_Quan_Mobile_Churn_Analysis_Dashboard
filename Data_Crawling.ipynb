{
  "nbformat": 4,
  "nbformat_minor": 0,
  "metadata": {
    "colab": {
      "provenance": [],
      "gpuType": "T4"
    },
    "kernelspec": {
      "name": "python3",
      "display_name": "Python 3"
    },
    "language_info": {
      "name": "python"
    },
    "accelerator": "GPU"
  },
  "cells": [
    {
      "cell_type": "code",
      "execution_count": 1,
      "metadata": {
        "colab": {
          "base_uri": "https://localhost:8080/"
        },
        "id": "hvcEa_0MWUvE",
        "outputId": "a05fd991-8899-4a62-c8af-9676e2805038"
      },
      "outputs": [
        {
          "output_type": "stream",
          "name": "stdout",
          "text": [
            "Collecting google-play-scraper\n",
            "  Downloading google_play_scraper-1.2.7-py3-none-any.whl.metadata (50 kB)\n",
            "\u001b[?25l     \u001b[90m━━━━━━━━━━━━━━━━━━━━━━━━━━━━━━━━━━━━━━━━\u001b[0m \u001b[32m0.0/50.2 kB\u001b[0m \u001b[31m?\u001b[0m eta \u001b[36m-:--:--\u001b[0m\r\u001b[2K     \u001b[90m━━━━━━━━━━━━━━━━━━━━━━━━━━━━━━━━━━━━━━━━\u001b[0m \u001b[32m50.2/50.2 kB\u001b[0m \u001b[31m5.7 MB/s\u001b[0m eta \u001b[36m0:00:00\u001b[0m\n",
            "\u001b[?25hDownloading google_play_scraper-1.2.7-py3-none-any.whl (28 kB)\n",
            "Installing collected packages: google-play-scraper\n",
            "Successfully installed google-play-scraper-1.2.7\n"
          ]
        }
      ],
      "source": [
        "pip install google-play-scraper\n"
      ]
    },
    {
      "cell_type": "code",
      "source": [
        "from google_play_scraper import reviews\n",
        "import pandas as pd\n",
        "import time"
      ],
      "metadata": {
        "id": "tWfxziauWfXg"
      },
      "execution_count": 2,
      "outputs": []
    },
    {
      "cell_type": "code",
      "source": [
        "import pandas as pd\n",
        "import time\n",
        "from google_play_scraper import reviews, Sort\n",
        "\n",
        "def fetch_reviews(app_id, lang='vi', country='vn', total=10000, batch=200):\n",
        "    \"\"\"Crawl review từ Google Play Store\"\"\"\n",
        "    data, token, collected = [], None, 0\n",
        "\n",
        "    print(f\"[+] Crawling {total} reviews from {app_id}...\")\n",
        "\n",
        "    while collected < total:\n",
        "        try:\n",
        "            result, token = reviews(\n",
        "                app_id,\n",
        "                lang=lang,\n",
        "                country=country,\n",
        "                count=batch,\n",
        "                sort=Sort.NEWEST,\n",
        "                continuation_token=token\n",
        "            )\n",
        "            if not result:\n",
        "                print(\"[!] No more data available.\")\n",
        "                break\n",
        "\n",
        "            data.extend(result)\n",
        "            collected += len(result)\n",
        "            print(f\"[✓] Collected: {collected}/{total}\")\n",
        "            time.sleep(1.5)\n",
        "\n",
        "        except Exception as e:\n",
        "            print(f\"[x] Error during crawling: {e}\")\n",
        "            break\n",
        "\n",
        "    return pd.DataFrame(data)\n",
        "\n",
        "def preprocess(df, app_name):\n",
        "    \"\"\"Làm sạch và lọc dữ liệu theo 2 bản cập nhật phổ biến nhất\"\"\"\n",
        "    cols = ['userName', 'score', 'content', 'at', 'reviewCreatedVersion', 'thumbsUpCount']\n",
        "    df = df[cols].copy()\n",
        "    df.columns = ['user_name', 'score', 'review_text', 'review_date', 'app_version', 'thumbs_up']\n",
        "\n",
        "    # Loại bỏ dòng thiếu version\n",
        "    df = df[df['app_version'].notna()]\n",
        "\n",
        "    # Giữ lại 2 phiên bản phổ biến nhất\n",
        "    top_versions = df['app_version'].value_counts().nlargest(2).index.tolist()\n",
        "    df = df[df['app_version'].isin(top_versions)]\n",
        "\n",
        "    # Gán nhãn churn\n",
        "    df['churned'] = df['score'].apply(lambda s: 1 if s <= 2 else 0)\n",
        "    df['app'] = app_name\n",
        "\n",
        "    return df\n",
        "\n",
        "def main():\n",
        "    app_id = \"com.garena.game.kgvn\"\n",
        "    app_name = \"Lien Quan Mobile\"\n",
        "    raw_df = fetch_reviews(app_id, total=10000)\n",
        "\n",
        "    if raw_df.empty:\n",
        "        print(\"[!] Không thu được dữ liệu.\")\n",
        "        return\n",
        "\n",
        "    clean_df = preprocess(raw_df, app_name)\n",
        "\n",
        "    output_file = f\"{app_name.lower().replace(' ', '_')}_filtered_latest_versions.csv\"\n",
        "    clean_df.to_csv(output_file, index=False, encoding='utf-8-sig')\n",
        "    print(f\"[✓] Saved to: {output_file} ({len(clean_df)} records)\")\n",
        "\n",
        "if __name__ == \"__main__\":\n",
        "    main()\n"
      ],
      "metadata": {
        "id": "FyO_mQL2Wh0a",
        "colab": {
          "base_uri": "https://localhost:8080/"
        },
        "outputId": "488402c4-961d-4e88-c90e-5663f5283fd1"
      },
      "execution_count": 3,
      "outputs": [
        {
          "output_type": "stream",
          "name": "stdout",
          "text": [
            "[+] Crawling 10000 reviews from com.garena.game.kgvn...\n",
            "[✓] Collected: 200/10000\n",
            "[✓] Collected: 400/10000\n",
            "[✓] Collected: 600/10000\n",
            "[✓] Collected: 800/10000\n",
            "[✓] Collected: 1000/10000\n",
            "[✓] Collected: 1200/10000\n",
            "[✓] Collected: 1400/10000\n",
            "[✓] Collected: 1600/10000\n",
            "[✓] Collected: 1800/10000\n",
            "[✓] Collected: 2000/10000\n",
            "[✓] Collected: 2200/10000\n",
            "[✓] Collected: 2400/10000\n",
            "[✓] Collected: 2600/10000\n",
            "[✓] Collected: 2800/10000\n",
            "[✓] Collected: 3000/10000\n",
            "[✓] Collected: 3200/10000\n",
            "[✓] Collected: 3400/10000\n",
            "[✓] Collected: 3600/10000\n",
            "[✓] Collected: 3800/10000\n",
            "[✓] Collected: 4000/10000\n",
            "[✓] Collected: 4200/10000\n",
            "[✓] Collected: 4400/10000\n",
            "[✓] Collected: 4600/10000\n",
            "[✓] Collected: 4800/10000\n",
            "[✓] Collected: 5000/10000\n",
            "[✓] Collected: 5200/10000\n",
            "[✓] Collected: 5400/10000\n",
            "[✓] Collected: 5600/10000\n",
            "[✓] Collected: 5800/10000\n",
            "[✓] Collected: 6000/10000\n",
            "[✓] Collected: 6200/10000\n",
            "[✓] Collected: 6400/10000\n",
            "[✓] Collected: 6600/10000\n",
            "[✓] Collected: 6800/10000\n",
            "[✓] Collected: 7000/10000\n",
            "[✓] Collected: 7200/10000\n",
            "[✓] Collected: 7400/10000\n",
            "[✓] Collected: 7600/10000\n",
            "[✓] Collected: 7800/10000\n",
            "[✓] Collected: 8000/10000\n",
            "[✓] Collected: 8200/10000\n",
            "[✓] Collected: 8400/10000\n",
            "[✓] Collected: 8600/10000\n",
            "[✓] Collected: 8800/10000\n",
            "[✓] Collected: 9000/10000\n",
            "[✓] Collected: 9200/10000\n",
            "[✓] Collected: 9400/10000\n",
            "[✓] Collected: 9600/10000\n",
            "[✓] Collected: 9800/10000\n",
            "[✓] Collected: 10000/10000\n",
            "[✓] Saved to: lien_quan_mobile_filtered_latest_versions.csv (7470 records)\n"
          ]
        }
      ]
    },
    {
      "cell_type": "code",
      "source": [],
      "metadata": {
        "id": "qndo6OBKWh2a"
      },
      "execution_count": null,
      "outputs": []
    },
    {
      "cell_type": "code",
      "source": [],
      "metadata": {
        "id": "k9I7d2rkWh58"
      },
      "execution_count": null,
      "outputs": []
    }
  ]
}